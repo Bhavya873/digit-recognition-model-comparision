{
  "nbformat": 4,
  "nbformat_minor": 0,
  "metadata": {
    "colab": {
      "provenance": []
    },
    "kernelspec": {
      "name": "python3",
      "display_name": "Python 3"
    },
    "language_info": {
      "name": "python"
    }
  },
  "cells": [
    {
      "cell_type": "markdown",
      "source": [
        "Imports + dataset + loaders"
      ],
      "metadata": {
        "id": "-mrdh_8xZxnv"
      }
    },
    {
      "cell_type": "code",
      "execution_count": 1,
      "metadata": {
        "colab": {
          "base_uri": "https://localhost:8080/"
        },
        "id": "1uZLmGFMZoUD",
        "outputId": "7c5cb4ea-f555-4454-a4b6-174c3f441f42"
      },
      "outputs": [
        {
          "output_type": "stream",
          "name": "stderr",
          "text": [
            "100%|██████████| 9.91M/9.91M [00:00<00:00, 18.2MB/s]\n",
            "100%|██████████| 28.9k/28.9k [00:00<00:00, 504kB/s]\n",
            "100%|██████████| 1.65M/1.65M [00:00<00:00, 4.48MB/s]\n",
            "100%|██████████| 4.54k/4.54k [00:00<00:00, 6.56MB/s]\n"
          ]
        }
      ],
      "source": [
        "import torch\n",
        "import torch.nn as nn\n",
        "import torch.optim as optim\n",
        "from torchvision import datasets, transforms\n",
        "from torch.utils.data import DataLoader\n",
        "\n",
        "transform = transforms.Compose([\n",
        "    transforms.ToTensor(),                # Gives [0,1]\n",
        "    transforms.Lambda(lambda x: x.view(-1))  # Flatten 1×28×28 → 784\n",
        "])\n",
        "train_dataset = datasets.MNIST('.', train=True,  download=True, transform=transform)\n",
        "test_dataset  = datasets.MNIST('.', train=False, download=True, transform=transform)\n",
        "\n",
        "train_loader  = DataLoader(train_dataset, batch_size=64,  shuffle=True)\n",
        "test_loader   = DataLoader(test_dataset,  batch_size=1000, shuffle=False)"
      ]
    },
    {
      "cell_type": "markdown",
      "source": [
        "Perceptron Model"
      ],
      "metadata": {
        "id": "R0mAJ2arZ3cV"
      }
    },
    {
      "cell_type": "code",
      "source": [
        "class PerceptronOVR(nn.Module):\n",
        "    def __init__(self, input_dim=784, num_classes=10):\n",
        "        super().__init__()\n",
        "        # weight matrix [10×784] and bias [10]\n",
        "        self.weights = nn.Parameter(torch.zeros(num_classes, input_dim))\n",
        "        self.biases  = nn.Parameter(torch.zeros(num_classes))\n",
        "    def forward(self, x):\n",
        "        # x: [B,784] → scores [B,10]\n",
        "        return x @ self.weights.t() + self.biases"
      ],
      "metadata": {
        "id": "C9f-0ctBZ9WM"
      },
      "execution_count": 2,
      "outputs": []
    },
    {
      "cell_type": "markdown",
      "source": [
        "Model + Loss Function + update rule"
      ],
      "metadata": {
        "id": "UYFV7-BbaWVm"
      }
    },
    {
      "cell_type": "code",
      "source": [
        "def perceptron_loss(scores, labels):\n",
        "    # scores [B,10], labels [B]\n",
        "    B, C = scores.size()\n",
        "\n",
        "    # y_one_hot: +1 for true class, –1 otherwise\n",
        "    y_oh = -torch.ones_like(scores)\n",
        "    y_oh[torch.arange(B), labels] = 1.0\n",
        "\n",
        "    # hinge loss max(0, –y·s)\n",
        "    loss = torch.clamp(-y_oh * scores, min=0.0)\n",
        "    return loss.mean()\n",
        "\n",
        "\n",
        "# 4. Training setup\n",
        "device = torch.device('cuda' if torch.cuda.is_available() else 'cpu')\n",
        "model        = PerceptronOVR().to(device)\n",
        "loss_function = perceptron_loss\n",
        "update_rule   = optim.SGD(model.parameters(), lr=1e-2)"
      ],
      "metadata": {
        "id": "sZOVjG6NaX10"
      },
      "execution_count": 3,
      "outputs": []
    },
    {
      "cell_type": "markdown",
      "source": [
        "Training + predicting + output"
      ],
      "metadata": {
        "id": "Aq8xLRBeagcX"
      }
    },
    {
      "cell_type": "code",
      "source": [
        "def run(train_loader, test_loader, model, loss_function, update_rule):\n",
        "    max_epochs = 10\n",
        "    for epoch in range(1, max_epochs+1):\n",
        "        # Training\n",
        "        model.train()\n",
        "        total_loss = 0.0\n",
        "        for x, y in train_loader:\n",
        "            x, y = x.to(device), y.to(device)\n",
        "            update_rule.zero_grad()\n",
        "            scores = model(x)\n",
        "            loss   = loss_function(scores, y)\n",
        "            loss.backward()\n",
        "            update_rule.step()\n",
        "            total_loss += loss.item() * x.size(0)\n",
        "        avg_train_loss = total_loss / len(train_loader.dataset)\n",
        "        # Evaluation\n",
        "        model.eval()\n",
        "        correct = 0\n",
        "        with torch.no_grad():\n",
        "            for x, y in test_loader:\n",
        "                x, y = x.to(device), y.to(device)\n",
        "                preds = model(x).argmax(dim=1)\n",
        "                correct += (preds == y).sum().item()\n",
        "        test_acc = 100 * correct / len(test_loader.dataset)\n",
        "        print(f\"Epoch {epoch}/{max_epochs} — Train Loss: {avg_train_loss:.4f} — Test Acc: {test_acc:.2f}%\")"
      ],
      "metadata": {
        "id": "dfSx0B1KayQF"
      },
      "execution_count": 4,
      "outputs": []
    },
    {
      "cell_type": "code",
      "source": [
        "run(train_loader, test_loader, model, loss_function, update_rule)\n"
      ],
      "metadata": {
        "colab": {
          "base_uri": "https://localhost:8080/"
        },
        "id": "dJw_gOpka6gZ",
        "outputId": "773080b7-c0b8-4f65-9cb6-2cbbe0eaaa6a"
      },
      "execution_count": 5,
      "outputs": [
        {
          "output_type": "stream",
          "name": "stdout",
          "text": [
            "Epoch 1/10 — Train Loss: 0.0001 — Test Acc: 76.39%\n",
            "Epoch 2/10 — Train Loss: 0.0000 — Test Acc: 85.86%\n",
            "Epoch 3/10 — Train Loss: 0.0000 — Test Acc: 77.00%\n",
            "Epoch 4/10 — Train Loss: 0.0000 — Test Acc: 85.27%\n",
            "Epoch 5/10 — Train Loss: 0.0000 — Test Acc: 85.96%\n",
            "Epoch 6/10 — Train Loss: 0.0000 — Test Acc: 89.24%\n",
            "Epoch 7/10 — Train Loss: 0.0000 — Test Acc: 86.23%\n",
            "Epoch 8/10 — Train Loss: 0.0000 — Test Acc: 76.48%\n",
            "Epoch 9/10 — Train Loss: 0.0000 — Test Acc: 82.20%\n",
            "Epoch 10/10 — Train Loss: 0.0000 — Test Acc: 88.73%\n"
          ]
        }
      ]
    },
    {
      "cell_type": "code",
      "source": [
        "torch.save(model.state_dict(), 'perceptron_oneVall.pth')"
      ],
      "metadata": {
        "id": "mczHj84Aa9xv"
      },
      "execution_count": 6,
      "outputs": []
    }
  ]
}